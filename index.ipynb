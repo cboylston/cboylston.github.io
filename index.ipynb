{
  "cells": [
    {
      "cell_type": "raw",
      "metadata": {},
      "source": [
        "---\n",
        "title: \"website\"\n",
        "---"
      ],
      "id": "c54f049e"
    },
    {
      "cell_type": "markdown",
      "metadata": {},
      "source": [
        "This is a Quarto website.\n",
        "\n",
        "\n",
        "For a demonstration of a line plot on a polar axis, see @fig-polar.\n"
      ],
      "id": "6cc0f5ba"
    },
    {
      "cell_type": "code",
      "metadata": {},
      "source": [
        "#| label: fig-polar\n",
        "#| fig-cap: A line plot on a polar axis\n",
        "\n",
        "import numpy as np\n",
        "import matplotlib.pyplot as plt\n",
        "\n",
        "r = np.arange(0, 2, 0.01)\n",
        "theta = 2 * np.pi * r\n",
        "fig, ax = plt.subplots(\n",
        "  subplot_kw = {'projection': 'polar'} \n",
        ")\n",
        "ax.plot(theta, r)\n",
        "ax.set_rticks([0.5, 1, 1.5, 2])\n",
        "ax.grid(True)\n",
        "plt.show()"
      ],
      "id": "fig-polar",
      "execution_count": null,
      "outputs": []
    },
    {
      "cell_type": "markdown",
      "metadata": {},
      "source": [
        "To learn more about Quarto websites visit <https://quarto.org/docs/websites>."
      ],
      "id": "d1a6ccad"
    }
  ],
  "metadata": {
    "kernelspec": {
      "name": "cs7643-a2",
      "language": "python",
      "display_name": "cs7643-a2"
    }
  },
  "nbformat": 4,
  "nbformat_minor": 5
}